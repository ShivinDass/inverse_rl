{
 "cells": [
  {
   "cell_type": "code",
   "execution_count": 4,
   "metadata": {},
   "outputs": [],
   "source": [
    "import numpy as np\n",
    "import random"
   ]
  },
  {
   "cell_type": "code",
   "execution_count": null,
   "metadata": {},
   "outputs": [],
   "source": [
    "# Directions\n",
    "#0 is left\n",
    "#1 is down\n",
    "#2 is right\n",
    "#3 is Up\n",
    "\n",
    "# 8.8 displays your position"
   ]
  },
  {
   "cell_type": "code",
   "execution_count": 126,
   "metadata": {},
   "outputs": [],
   "source": [
    "\n",
    "\n",
    "class myGridWorld:\n",
    "    \n",
    "    size=5\n",
    "    RewardGrid=np.zeros([5,5])\n",
    "    RewardGrid[0][4]=1\n",
    "    PositionGrid=np.zeros([5,5])\n",
    "    PositionGrid[4][0]=1.1\n",
    "    action_space=4\n",
    "    noisyMoveChance=0.3\n",
    "    currI=4\n",
    "    currJ=0\n",
    "    DoneStatus=False\n",
    "    EnableNoise=True\n",
    "    observation_spaces=size*size\n",
    "    \n",
    "    def __init__(self,size=5,noisyMoveChance=0.3,EnableNoise=True):\n",
    "        self.basicReset()\n",
    "        self.EnableNoise=EnableNoise\n",
    "        if(0<size):\n",
    "            self.size=int(size)\n",
    "            self.RewardGrid=np.zeros([size,size])\n",
    "            self.RewardGrid[0][size-1]=1\n",
    "            self.PositionGrid=np.zeros([size,size])\n",
    "            self.PositionGrid[size-1][0]=1.1\n",
    "            self.observation_spaces=self.size*self.size\n",
    "            self.currI=size-1\n",
    "            self.currJ=0\n",
    "            self.observation_spaces=self.size*self.size\n",
    "        if(0<noisyMoveChance and noisyMoveChance<1):\n",
    "            self.noisyMoveChance=noisyMoveChance\n",
    "            \n",
    "    def basicReset(self):\n",
    "        self.size=5\n",
    "        self.RewardGrid=np.zeros([5,5])\n",
    "        self.RewardGrid[0][4]=1\n",
    "        self.PositionGrid=np.zeros([5,5])\n",
    "        self.PositionGrid[4][0]=1.1\n",
    "        self.action_space=4\n",
    "        self.noisyMoveChance=0.3\n",
    "        self.currI=4\n",
    "        self.currJ=0\n",
    "        self.DoneStatus=False\n",
    "        self.EnableNoise=True\n",
    "        self.observation_spaces=self.size*self.size\n",
    "            \n",
    "    def reset(self,size=5,noisyMoveChance=0.3,EnableNoise=True):\n",
    "        self.__init__(size,noisyMoveChance,EnableNoise)\n",
    "        return self.currI*self.size+self.currJ\n",
    "    \n",
    "    def printRewardGrid(self):\n",
    "        for i in range(len(self.RewardGrid)):\n",
    "            for j in range(len(self.RewardGrid[0])):\n",
    "                print(self.RewardGrid[i][j],end=' ')\n",
    "            print()\n",
    "            \n",
    "    def printPositionGrid(self):\n",
    "        for i in range(len(self.PositionGrid)):\n",
    "            for j in range(len(self.PositionGrid[0])):\n",
    "                print(self.PositionGrid[i][j],end=' ')\n",
    "            print()\n",
    "            \n",
    "    def getPositionGrid(self):\n",
    "        return self.PositionGrid\n",
    "            \n",
    "    def render(self):\n",
    "        self.printPositionGrid()\n",
    "        \n",
    "    def getAvailableMoves(self):\n",
    "        return self.action_space\n",
    "    \n",
    "    def getSize(self):\n",
    "        return self.size\n",
    "            \n",
    "    def move(self,action):\n",
    "        randNum=random.random()\n",
    "        if(self.EnableNoise and randNum<=self.noisyMoveChance):\n",
    "            self.makeNoisyMove(action)\n",
    "        else:\n",
    "            self.makeProperMove(action)\n",
    "        return self.currI,self.currJ,self.currI*self.size+self.currJ,self.RewardGrid[self.currI][self.currJ],self.DoneStatus\n",
    "        \n",
    "    def makeNoisyMove(self,action):\n",
    "        randNum=random.randint(0,3)\n",
    "        self.makeProperMove(randNum)\n",
    "        \n",
    "    def makeProperMove(self,action):\n",
    "        if(action==0):#Left\n",
    "            if(0<self.currJ):\n",
    "                self.PositionGrid[self.currI][self.currJ]=0\n",
    "                self.currJ-=1\n",
    "                self.PositionGrid[self.currI][self.currJ]=1.1\n",
    "        elif(action==1):#1 is down\n",
    "            if(self.currI<self.size-1):\n",
    "                self.PositionGrid[self.currI][self.currJ]=0\n",
    "                self.currI+=1\n",
    "                self.PositionGrid[self.currI][self.currJ]=1.1\n",
    "        elif(action==2):#2 is right\n",
    "            if(self.currJ<self.size-1):\n",
    "                self.PositionGrid[self.currI][self.currJ]=0\n",
    "                self.currJ+=1\n",
    "                self.PositionGrid[self.currI][self.currJ]=1.1\n",
    "        elif(action==3):#3 is Up\n",
    "            if(0<self.currI):\n",
    "                self.PositionGrid[self.currI][self.currJ]=0\n",
    "                self.currI-=1\n",
    "                self.PositionGrid[self.currI][self.currJ]=1.1\n",
    "                \n",
    "        if(self.currI==0 and self.currJ==self.size-1):\n",
    "            self.DoneStatus=True\n",
    "            \n",
    "    def step(self,action):\n",
    "        return self.move(action)"
   ]
  },
  {
   "cell_type": "code",
   "execution_count": 182,
   "metadata": {},
   "outputs": [],
   "source": [
    "class myGridWorldTrainer:\n",
    "    \n",
    "    Q=[]\n",
    "    matrix=[]\n",
    "    Trajectories=[]\n",
    "    DirectionalMatrix=[]\n",
    "    \n",
    "    def trainModel(self,model):\n",
    "        env=model\n",
    "        alpha = 0.6\n",
    "        gamma = 0.9\n",
    "        Q = np.zeros([env.observation_spaces, env.action_space])\n",
    "        for episode in range(1,1001):\n",
    "            done = False\n",
    "            TotalReward = 0\n",
    "            state = env.reset()\n",
    "            while done != True:\n",
    "                    if(episode<500):\n",
    "                        action = random.randint(0,3)\n",
    "                    else:\n",
    "                        action=np.argmax(Q[state])\n",
    "                    i,j,state2, reward, done = env.step(action)\n",
    "                    Q[state,action] += alpha * (reward + gamma* np.max(Q[state2]) - Q[state,action])\n",
    "                    TotalReward += reward\n",
    "                    state = state2\n",
    "        self.Q=Q\n",
    "        return Q\n",
    "    \n",
    "    def getDirections(self,Q):\n",
    "        matrix=[]\n",
    "        for i in range(0,25):\n",
    "            matrix.append(np.argmax(Q[i]))\n",
    "        matrix=np.reshape(matrix,(5,5))\n",
    "        DirectionalMatrix=[]\n",
    "        for i in range(5):\n",
    "            row=[]\n",
    "            for j in range(5):\n",
    "                if(matrix[i][j]==0):\n",
    "                    row.append('\\u2190')\n",
    "                elif(matrix[i][j]==1):\n",
    "                    row.append('\\u2193')\n",
    "                elif(matrix[i][j]==2):\n",
    "                    row.append('\\u2192')\n",
    "                elif(matrix[i][j]==3):\n",
    "                    row.append('\\u2191')\n",
    "            DirectionalMatrix.append(row)\n",
    "#         for row in DirectionalMatrix:\n",
    "#             print(row)\n",
    "        self.DirectionalMatrix=DirectionalMatrix\n",
    "        self.matrix=matrix\n",
    "        return matrix\n",
    "            \n",
    "    def getTrajectories(self,matrix,numTrajectories):\n",
    "        Trajectories=[]\n",
    "\n",
    "        for iters in range(numTrajectories):\n",
    "            path=[]\n",
    "            done=False\n",
    "            state = env.reset()\n",
    "            TotalReward = 0\n",
    "            path.append(state)\n",
    "            i=int(state/env.size)\n",
    "            j=state%env.size\n",
    "            while done != True:\n",
    "                action=matrix[i][j]\n",
    "                i,j,state2, reward, done = env.step(action)\n",
    "                TotalReward += reward\n",
    "                state = state2\n",
    "                path.append(state)\n",
    "\n",
    "            Trajectories.append(path)\n",
    "#         for i in Trajectories:\n",
    "#             print(i)\n",
    "        self.Trajectories=Trajectories\n",
    "        return Trajectories\n",
    "\n",
    "    def allInOne(self,model,numTrajectories):\n",
    "        Q=self.trainModel(model)\n",
    "        matrix=self.getDirections(Q)\n",
    "        return self.getTrajectories(matrix,numTrajectories)"
   ]
  },
  {
   "cell_type": "code",
   "execution_count": 184,
   "metadata": {},
   "outputs": [
    {
     "name": "stdout",
     "output_type": "stream",
     "text": [
      "[20, 20, 15, 10, 11, 6, 5, 6, 7, 8, 13, 12, 11, 10, 15, 10, 5, 5, 6, 7, 8, 9, 4]\n",
      "[20, 15, 15, 20, 15, 15, 10, 5, 6, 7, 8, 9, 4]\n",
      "[20, 15, 10, 11, 12, 13, 8, 9, 14, 19, 14, 9, 4]\n",
      "[20, 20, 15, 10, 10, 11, 6, 7, 8, 9, 4]\n",
      "[20, 15, 10, 11, 6, 7, 8, 9, 4]\n",
      "[20, 20, 15, 16, 17, 18, 13, 8, 9, 8, 9, 4]\n",
      "[20, 15, 10, 11, 6, 7, 8, 9, 4]\n",
      "[20, 15, 10, 11, 6, 7, 8, 9, 4]\n",
      "[20, 15, 10, 11, 12, 13, 8, 9, 4]\n",
      "[20, 15, 15, 10, 11, 6, 7, 8, 9, 4]\n",
      "[20, 15, 10, 11, 6, 7, 8, 9, 4]\n",
      "[20, 20, 20, 20, 15, 10, 11, 12, 13, 18, 13, 8, 9, 8, 9, 4]\n",
      "[20, 15, 10, 11, 6, 1, 6, 7, 8, 9, 4]\n",
      "[20, 15, 15, 20, 15, 15, 10, 11, 6, 7, 8, 9, 4]\n",
      "[20, 15, 10, 11, 6, 7, 8, 9, 9, 4]\n",
      "[20, 15, 10, 11, 6, 7, 8, 9, 8, 13, 8, 9, 4]\n",
      "[20, 21, 16, 17, 12, 13, 8, 7, 8, 9, 4]\n",
      "[20, 20, 15, 10, 10, 11, 6, 7, 8, 9, 4]\n",
      "[20, 21, 16, 17, 12, 7, 8, 9, 4]\n",
      "[20, 15, 10, 11, 16, 17, 16, 17, 12, 13, 8, 9, 4]\n"
     ]
    }
   ],
   "source": [
    "sampleGrid=myGridWorld()\n",
    "sampleGridTrainer=myGridWorldTrainer()\n",
    "sampleTrajectories=sampleGridTrainer.allInOne(sampleGrid,20)\n",
    "for i in sampleTrajectories:\n",
    "    print(i)"
   ]
  },
  {
   "cell_type": "code",
   "execution_count": null,
   "metadata": {},
   "outputs": [],
   "source": [
    "#=========================================================================================================================\n",
    "\n",
    "#Testing data below"
   ]
  },
  {
   "cell_type": "code",
   "execution_count": 181,
   "metadata": {},
   "outputs": [
    {
     "name": "stdout",
     "output_type": "stream",
     "text": [
      "['→', '→', '→', '→', '←']\n",
      "['↑', '→', '→', '↑', '↑']\n",
      "['→', '→', '→', '↑', '↑']\n",
      "['↑', '↑', '↑', '↑', '↑']\n",
      "['→', '→', '→', '→', '↑']\n"
     ]
    }
   ],
   "source": [
    "# for i in sampleGridTrainer.DirectionalMatrix:\n",
    "#     print (i)"
   ]
  },
  {
   "cell_type": "code",
   "execution_count": 153,
   "metadata": {},
   "outputs": [
    {
     "name": "stdout",
     "output_type": "stream",
     "text": [
      "[[2 2 2 2 0]\n",
      " [2 3 2 2 3]\n",
      " [3 3 3 2 3]\n",
      " [2 3 3 2 3]\n",
      " [3 2 2 2 3]]\n"
     ]
    }
   ],
   "source": [
    "#print(matrix)"
   ]
  },
  {
   "cell_type": "code",
   "execution_count": 154,
   "metadata": {},
   "outputs": [
    {
     "name": "stdout",
     "output_type": "stream",
     "text": [
      "['→', '→', '→', '→', '←']\n",
      "['→', '↑', '→', '→', '↑']\n",
      "['↑', '↑', '↑', '→', '↑']\n",
      "['→', '↑', '↑', '→', '↑']\n",
      "['↑', '→', '→', '→', '↑']\n"
     ]
    }
   ],
   "source": [
    "# for row in DirectionalMatrix:\n",
    "#     print(row)"
   ]
  },
  {
   "cell_type": "code",
   "execution_count": 156,
   "metadata": {},
   "outputs": [],
   "source": [
    "# import pickle\n",
    "# mydata = [Q,matrix,DirectionalMatrix]\n",
    "# outputFile = 'model.data'\n",
    "# fw = open(outputFile, 'wb')\n",
    "# pickle.dump(mydata, fw)\n",
    "# fw.close()"
   ]
  },
  {
   "cell_type": "code",
   "execution_count": 159,
   "metadata": {},
   "outputs": [
    {
     "name": "stdout",
     "output_type": "stream",
     "text": [
      "[array([[0.43004339, 0.45212881, 0.61558091, 0.45310747],\n",
      "       [0.46965204, 0.47690185, 0.76270971, 0.48129609],\n",
      "       [0.52201239, 0.53598079, 0.88957005, 0.51801781],\n",
      "       [0.64767243, 0.62176735, 0.99984226, 0.62657434],\n",
      "       [0.        , 0.        , 0.        , 0.        ],\n",
      "       [0.41831039, 0.40522724, 0.45084596, 0.42004852],\n",
      "       [0.46369228, 0.43552376, 0.45160894, 0.63119409],\n",
      "       [0.48420771, 0.48433573, 0.77782329, 0.46722925],\n",
      "       [0.50262931, 0.49599035, 0.89440985, 0.51293198],\n",
      "       [0.52018924, 0.52150701, 0.53149694, 0.99996926],\n",
      "       [0.36048189, 0.37866988, 0.34214642, 0.43221122],\n",
      "       [0.3736657 , 0.35860765, 0.37346519, 0.5332261 ],\n",
      "       [0.40898293, 0.39336741, 0.39802421, 0.64443918],\n",
      "       [0.4060106 , 0.39305184, 0.52710811, 0.41092932],\n",
      "       [0.4550372 , 0.43258876, 0.45505562, 0.86363268],\n",
      "       [0.29023405, 0.28830074, 0.3807284 , 0.30712898],\n",
      "       [0.315256  , 0.3364679 , 0.33275335, 0.44741976],\n",
      "       [0.37943963, 0.35920061, 0.37997438, 0.48743172],\n",
      "       [0.39484636, 0.39939766, 0.61248097, 0.37836932],\n",
      "       [0.41130045, 0.40255626, 0.41566599, 0.7248729 ],\n",
      "       [0.27260879, 0.27344848, 0.27751037, 0.36648497],\n",
      "       [0.31196436, 0.30459937, 0.42135329, 0.31488777],\n",
      "       [0.34163563, 0.32503357, 0.52082826, 0.3302049 ],\n",
      "       [0.33768746, 0.34643666, 0.60304552, 0.34370103],\n",
      "       [0.38243621, 0.36580694, 0.37910205, 0.66117105]]), array([[2, 2, 2, 2, 0],\n",
      "       [2, 3, 2, 2, 3],\n",
      "       [3, 3, 3, 2, 3],\n",
      "       [2, 3, 3, 2, 3],\n",
      "       [3, 2, 2, 2, 3]], dtype=int64), [['→', '→', '→', '→', '←'], ['→', '↑', '→', '→', '↑'], ['↑', '↑', '↑', '→', '↑'], ['→', '↑', '↑', '→', '↑'], ['↑', '→', '→', '→', '↑']]]\n"
     ]
    }
   ],
   "source": [
    "# import pickle\n",
    "# inputFile = 'model.data'\n",
    "# fd = open(inputFile, 'rb')\n",
    "# dataset = pickle.load(fd)\n",
    "# print (dataset)"
   ]
  },
  {
   "cell_type": "code",
   "execution_count": null,
   "metadata": {},
   "outputs": [],
   "source": [
    "# \\u2190 ←\n",
    "# \\u2191 ↑\n",
    "# \\u2192 →\n",
    "# \\u2193 ↓"
   ]
  },
  {
   "cell_type": "code",
   "execution_count": null,
   "metadata": {},
   "outputs": [],
   "source": [
    "#0 is left\n",
    "#1 is down\n",
    "#2 is right\n",
    "#3 is Up"
   ]
  },
  {
   "cell_type": "code",
   "execution_count": 168,
   "metadata": {},
   "outputs": [],
   "source": []
  },
  {
   "cell_type": "code",
   "execution_count": 169,
   "metadata": {},
   "outputs": [
    {
     "name": "stdout",
     "output_type": "stream",
     "text": [
      "[20, 20, 15, 20, 15, 16, 11, 6, 11, 6, 1, 2, 3, 4]\n",
      "[20, 20, 15, 16, 11, 6, 1, 2, 3, 4]\n",
      "[20, 15, 10, 5, 6, 1, 2, 3, 4]\n",
      "[20, 15, 16, 11, 16, 11, 6, 1, 2, 3, 4]\n",
      "[20, 15, 20, 15, 16, 11, 6, 1, 2, 3, 4]\n",
      "[20, 20, 15, 16, 21, 22, 23, 24, 19, 14, 9, 9, 8, 9, 4]\n",
      "[20, 15, 16, 11, 6, 1, 2, 3, 4]\n",
      "[20, 15, 20, 15, 10, 5, 6, 5, 10, 15, 16, 11, 6, 11, 6, 1, 2, 3, 4]\n",
      "[20, 15, 15, 16, 11, 6, 1, 2, 3, 4]\n",
      "[20, 15, 16, 11, 6, 1, 2, 3, 4]\n"
     ]
    }
   ],
   "source": [
    "# for i in Trajectories:\n",
    "#     print(i)"
   ]
  },
  {
   "cell_type": "code",
   "execution_count": null,
   "metadata": {},
   "outputs": [],
   "source": []
  }
 ],
 "metadata": {
  "kernelspec": {
   "display_name": "Python 3",
   "language": "python",
   "name": "python3"
  },
  "language_info": {
   "codemirror_mode": {
    "name": "ipython",
    "version": 3
   },
   "file_extension": ".py",
   "mimetype": "text/x-python",
   "name": "python",
   "nbconvert_exporter": "python",
   "pygments_lexer": "ipython3",
   "version": "3.7.3"
  }
 },
 "nbformat": 4,
 "nbformat_minor": 2
}
